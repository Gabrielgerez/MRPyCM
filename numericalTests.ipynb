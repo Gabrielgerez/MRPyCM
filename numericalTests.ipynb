{
 "cells": [
  {
   "cell_type": "code",
   "execution_count": 9,
   "metadata": {},
   "outputs": [],
   "source": [
    "import numpy as np \n",
    "import json\n",
    "import pandas as pd\n",
    "from qcelemental.physical_constants.context import PhysicalConstantsContext\n",
    "import pandas as pd\n",
    "context = PhysicalConstantsContext(context=\"CODATA2018\")"
   ]
  },
  {
   "cell_type": "code",
   "execution_count": 10,
   "metadata": {},
   "outputs": [],
   "source": [
    "with open(\"numeric_tests.json\", \"r\") as f:\n",
    "    numeric_tests = json.load(f)"
   ]
  },
  {
   "cell_type": "code",
   "execution_count": 12,
   "metadata": {},
   "outputs": [],
   "source": [
    "data_lst = []\n",
    "\n",
    "for solver, perms in numeric_tests.items():\n",
    "    for form, cases in perms.items():\n",
    "        for case, fill in enumerate(cases):\n",
    "            data_dct = {\n",
    "                \"Solver\": solver,\n",
    "                \"Formulation\": form,\n",
    "                \"case\": case,\n",
    "                \"E_r\": fill[\"output\"][\"E_r\"],\n",
    "                \"iterations\": fill[\"output\"][\"iterations\"]\n",
    "            }\n",
    "            data_lst.append(data_dct)"
   ]
  },
  {
   "cell_type": "code",
   "execution_count": 13,
   "metadata": {},
   "outputs": [],
   "source": [
    "data_df = pd.DataFrame(data_lst)"
   ]
  },
  {
   "cell_type": "code",
   "execution_count": 17,
   "metadata": {},
   "outputs": [
    {
     "data": {
      "text/html": [
       "<div>\n",
       "<style scoped>\n",
       "    .dataframe tbody tr th:only-of-type {\n",
       "        vertical-align: middle;\n",
       "    }\n",
       "\n",
       "    .dataframe tbody tr th {\n",
       "        vertical-align: top;\n",
       "    }\n",
       "\n",
       "    .dataframe thead th {\n",
       "        text-align: right;\n",
       "    }\n",
       "</style>\n",
       "<table border=\"1\" class=\"dataframe\">\n",
       "  <thead>\n",
       "    <tr style=\"text-align: right;\">\n",
       "      <th></th>\n",
       "      <th>Solver</th>\n",
       "      <th>Formulation</th>\n",
       "      <th>case</th>\n",
       "      <th>E_r</th>\n",
       "      <th>iterations</th>\n",
       "    </tr>\n",
       "  </thead>\n",
       "  <tbody>\n",
       "    <tr>\n",
       "      <th>0</th>\n",
       "      <td>gpe</td>\n",
       "      <td>exponential</td>\n",
       "      <td>0</td>\n",
       "      <td>0.004368</td>\n",
       "      <td>4</td>\n",
       "    </tr>\n",
       "    <tr>\n",
       "      <th>6</th>\n",
       "      <td>gpe</td>\n",
       "      <td>linear</td>\n",
       "      <td>0</td>\n",
       "      <td>-0.003160</td>\n",
       "      <td>4</td>\n",
       "    </tr>\n",
       "    <tr>\n",
       "      <th>12</th>\n",
       "      <td>pb</td>\n",
       "      <td>exponential</td>\n",
       "      <td>0</td>\n",
       "      <td>0.004255</td>\n",
       "      <td>4</td>\n",
       "    </tr>\n",
       "    <tr>\n",
       "      <th>18</th>\n",
       "      <td>pb</td>\n",
       "      <td>linear</td>\n",
       "      <td>0</td>\n",
       "      <td>-0.003216</td>\n",
       "      <td>4</td>\n",
       "    </tr>\n",
       "    <tr>\n",
       "      <th>24</th>\n",
       "      <td>lpb</td>\n",
       "      <td>exponential</td>\n",
       "      <td>0</td>\n",
       "      <td>0.004255</td>\n",
       "      <td>4</td>\n",
       "    </tr>\n",
       "    <tr>\n",
       "      <th>30</th>\n",
       "      <td>lpb</td>\n",
       "      <td>linear</td>\n",
       "      <td>0</td>\n",
       "      <td>-0.003216</td>\n",
       "      <td>4</td>\n",
       "    </tr>\n",
       "  </tbody>\n",
       "</table>\n",
       "</div>"
      ],
      "text/plain": [
       "   Solver  Formulation  case       E_r  iterations\n",
       "0     gpe  exponential     0  0.004368           4\n",
       "6     gpe       linear     0 -0.003160           4\n",
       "12     pb  exponential     0  0.004255           4\n",
       "18     pb       linear     0 -0.003216           4\n",
       "24    lpb  exponential     0  0.004255           4\n",
       "30    lpb       linear     0 -0.003216           4"
      ]
     },
     "execution_count": 17,
     "metadata": {},
     "output_type": "execute_result"
    }
   ],
   "source": [
    "data_df[(data_df.case == 0)]"
   ]
  },
  {
   "cell_type": "code",
   "execution_count": null,
   "metadata": {},
   "outputs": [],
   "source": []
  }
 ],
 "metadata": {
  "kernelspec": {
   "display_name": "Python 3.11.4 ('MRPyCM-env')",
   "language": "python",
   "name": "python3"
  },
  "language_info": {
   "codemirror_mode": {
    "name": "ipython",
    "version": 3
   },
   "file_extension": ".py",
   "mimetype": "text/x-python",
   "name": "python",
   "nbconvert_exporter": "python",
   "pygments_lexer": "ipython3",
   "version": "3.11.4"
  },
  "orig_nbformat": 4,
  "vscode": {
   "interpreter": {
    "hash": "487dd71aba060d73bfc278ebf788be90cc4e85b80399312c78d8b97665a3c999"
   }
  }
 },
 "nbformat": 4,
 "nbformat_minor": 2
}
